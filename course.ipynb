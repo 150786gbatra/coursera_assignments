{
  "metadata": {
    "language_info": {
      "name": "python",
      "version": "3.7.8",
      "mimetype": "text/x-python",
      "codemirror_mode": {
        "name": "ipython",
        "version": 3
      },
      "pygments_lexer": "ipython3",
      "nbconvert_exporter": "python",
      "file_extension": ".py"
    },
    "kernelspec": {
      "name": "python3",
      "display_name": "Python 3",
      "language": "python"
    },
    "colab": {
      "name": "course.ipynb",
      "provenance": [],
      "include_colab_link": true
    }
  },
  "nbformat_minor": 5,
  "nbformat": 4,
  "cells": [
    {
      "cell_type": "markdown",
      "metadata": {
        "id": "view-in-github",
        "colab_type": "text"
      },
      "source": [
        "<a href=\"https://colab.research.google.com/github/150786gbatra/coursera_assignments/blob/master/course.ipynb\" target=\"_parent\"><img src=\"https://colab.research.google.com/assets/colab-badge.svg\" alt=\"Open In Colab\"/></a>"
      ]
    },
    {
      "cell_type": "code",
      "source": [
        "print (\"Hello World\")\n"
      ],
      "metadata": {
        "trusted": true,
        "id": "52509b41-814b-4659-8dbe-1d981eb49901",
        "outputId": "10f98162-eff2-4b44-ea0e-0d714b2b3100"
      },
      "execution_count": null,
      "outputs": [
        {
          "name": "stdout",
          "text": "Hello World\n",
          "output_type": "stream"
        }
      ],
      "id": "52509b41-814b-4659-8dbe-1d981eb49901"
    },
    {
      "cell_type": "markdown",
      "source": [
        "### Markdown Sample\n",
        "This is my first line for markdown\n"
      ],
      "metadata": {
        "id": "a3485ae6-4f02-47ac-b378-1efe19129870"
      },
      "id": "a3485ae6-4f02-47ac-b378-1efe19129870"
    },
    {
      "cell_type": "code",
      "source": [
        ""
      ],
      "metadata": {
        "id": "b9883cc2-3a06-468e-865f-19c2bcb1efe5"
      },
      "execution_count": null,
      "outputs": [],
      "id": "b9883cc2-3a06-468e-865f-19c2bcb1efe5"
    },
    {
      "cell_type": "markdown",
      "source": [
        ""
      ],
      "metadata": {
        "id": "1N_6akCgruIs"
      },
      "id": "1N_6akCgruIs"
    }
  ]
}